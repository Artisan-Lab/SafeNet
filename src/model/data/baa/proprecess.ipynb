{
 "cells": [
  {
   "cell_type": "code",
   "execution_count": 11,
   "outputs": [],
   "source": [
    "import os\n",
    "import pandas as pd\n",
    "import json\n",
    "\n",
    "folder_path = 'orgin'\n",
    "all_files = os.listdir(folder_path)\n",
    "\n",
    "df_data = []\n",
    "processed_files = set()\n",
    "\n",
    "for file_name in all_files:\n",
    "    if file_name.endswith('.json') and file_name not in processed_files:\n",
    "        file_path = os.path.join(folder_path, file_name)\n",
    "        with open(file_path) as f:\n",
    "            data = json.load(f)\n",
    "        label = data['label']\n",
    "        preorders = data['data']\n",
    "        df_data.append({'text1': ' '.join(preorders[0]['Preorder']), 'text2': ' '.join(preorders[1]['Preorder']), 'label': label})\n",
    "        processed_files.add(file_name)\n",
    "\n",
    "df = pd.DataFrame(df_data)"
   ],
   "metadata": {
    "collapsed": false,
    "pycharm": {
     "name": "#%%\n"
    }
   }
  },
  {
   "cell_type": "code",
   "execution_count": 13,
   "outputs": [],
   "source": [
    "df.to_csv('data.csv',encoding='utf-8-sig')"
   ],
   "metadata": {
    "collapsed": false,
    "pycharm": {
     "name": "#%%\n"
    }
   }
  },
  {
   "cell_type": "code",
   "execution_count": 14,
   "outputs": [
    {
     "data": {
      "text/plain": "                                                text1   \n0   node node null pub_token node node node null e...  \\\n1   node node null pub_token node node node null e...   \n2   node node null pub_token node node node null e...   \n3   node node node null fn_token node null main no...   \n4   node node node null pub_token node null struct...   \n5   node node null impl_token node node node null ...   \n6   node node null impl_token node node null var1 ...   \n7   node node null pub_token node node node null e...   \n8   node node null pub_token node node node null e...   \n9   node node null pub_token node node node null e...   \n10  node node null pub_token node node node null e...   \n\n                                                text2 label  \n0   node node node node null fn_token node null va...     1  \n1   node node node node null fn_token node null va...     0  \n2   node node node null fn_token node null main no...     0  \n3   node node node node null fn_token node null va...     1  \n4   node node node node null fn_token node null va...     1  \n5   node node node node null fn_token node null va...     1  \n6   node node node node null fn_token node null va...     1  \n7   node node node null fn_token node null main no...     0  \n8   node node node null fn_token node null main no...     0  \n9   node node node node null fn_token node null va...     0  \n10  node node node null fn_token node null main no...     0  ",
      "text/html": "<div>\n<style scoped>\n    .dataframe tbody tr th:only-of-type {\n        vertical-align: middle;\n    }\n\n    .dataframe tbody tr th {\n        vertical-align: top;\n    }\n\n    .dataframe thead th {\n        text-align: right;\n    }\n</style>\n<table border=\"1\" class=\"dataframe\">\n  <thead>\n    <tr style=\"text-align: right;\">\n      <th></th>\n      <th>text1</th>\n      <th>text2</th>\n      <th>label</th>\n    </tr>\n  </thead>\n  <tbody>\n    <tr>\n      <th>0</th>\n      <td>node node null pub_token node node node null e...</td>\n      <td>node node node node null fn_token node null va...</td>\n      <td>1</td>\n    </tr>\n    <tr>\n      <th>1</th>\n      <td>node node null pub_token node node node null e...</td>\n      <td>node node node node null fn_token node null va...</td>\n      <td>0</td>\n    </tr>\n    <tr>\n      <th>2</th>\n      <td>node node null pub_token node node node null e...</td>\n      <td>node node node null fn_token node null main no...</td>\n      <td>0</td>\n    </tr>\n    <tr>\n      <th>3</th>\n      <td>node node node null fn_token node null main no...</td>\n      <td>node node node node null fn_token node null va...</td>\n      <td>1</td>\n    </tr>\n    <tr>\n      <th>4</th>\n      <td>node node node null pub_token node null struct...</td>\n      <td>node node node node null fn_token node null va...</td>\n      <td>1</td>\n    </tr>\n    <tr>\n      <th>5</th>\n      <td>node node null impl_token node node node null ...</td>\n      <td>node node node node null fn_token node null va...</td>\n      <td>1</td>\n    </tr>\n    <tr>\n      <th>6</th>\n      <td>node node null impl_token node node null var1 ...</td>\n      <td>node node node node null fn_token node null va...</td>\n      <td>1</td>\n    </tr>\n    <tr>\n      <th>7</th>\n      <td>node node null pub_token node node node null e...</td>\n      <td>node node node null fn_token node null main no...</td>\n      <td>0</td>\n    </tr>\n    <tr>\n      <th>8</th>\n      <td>node node null pub_token node node node null e...</td>\n      <td>node node node null fn_token node null main no...</td>\n      <td>0</td>\n    </tr>\n    <tr>\n      <th>9</th>\n      <td>node node null pub_token node node node null e...</td>\n      <td>node node node node null fn_token node null va...</td>\n      <td>0</td>\n    </tr>\n    <tr>\n      <th>10</th>\n      <td>node node null pub_token node node node null e...</td>\n      <td>node node node null fn_token node null main no...</td>\n      <td>0</td>\n    </tr>\n  </tbody>\n</table>\n</div>"
     },
     "execution_count": 14,
     "metadata": {},
     "output_type": "execute_result"
    }
   ],
   "source": [
    "df"
   ],
   "metadata": {
    "collapsed": false,
    "pycharm": {
     "name": "#%%\n"
    }
   }
  },
  {
   "cell_type": "code",
   "execution_count": null,
   "outputs": [],
   "source": [],
   "metadata": {
    "collapsed": false,
    "pycharm": {
     "name": "#%%\n"
    }
   }
  }
 ],
 "metadata": {
  "kernelspec": {
   "display_name": "Python 3",
   "language": "python",
   "name": "python3"
  },
  "language_info": {
   "codemirror_mode": {
    "name": "ipython",
    "version": 2
   },
   "file_extension": ".py",
   "mimetype": "text/x-python",
   "name": "python",
   "nbconvert_exporter": "python",
   "pygments_lexer": "ipython2",
   "version": "2.7.6"
  }
 },
 "nbformat": 4,
 "nbformat_minor": 0
}